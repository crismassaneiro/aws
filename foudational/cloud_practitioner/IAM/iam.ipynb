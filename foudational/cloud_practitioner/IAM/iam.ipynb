{
 "cells": [
  {
   "cell_type": "markdown",
   "metadata": {},
   "source": [
    "IAM User & Groups\n",
    "\n",
    "\n",
    "Não utilize a conta root para operar a AWS, crie um usuário apra usar a AWS\n",
    "\n",
    "O ideal é sempre deixar os usuários com o menor número de permissoes possível\n",
    "\n",
    "Usuários possuem acesso global\n",
    "\n",
    "Se aparecer Account ID abaixo do nome, significa que você está na conta root.\n",
    "\n",
    "Criando um usuário:\n",
    "\n",
    "Primeiro você cadastra o nome dele\n",
    "Depois você escolhe como será gerada a sennha de acesso dele\n",
    "\n",
    "Agora você seleciona as permissões desse usuário:\n",
    "\n",
    "Significa que você terá escolher um grupo, que contem as permissões que você deseja que o usuário X tenha, ainda não exista nenhum grupo as informações especificas,você pega e cria um novo grupo e seleciona as permissões que você deseja.\n",
    "\n",
    "Após fazer os passos acima, você verifica se todas as informações que você optou estão corretas.\n",
    "\n",
    "Nessa estapa você poderá criar TAGS, elas servem, para ajudar nos seus LOGS, pq você pode escrever assim:\n",
    "\n",
    "Key: Departamento\n",
    "Value: Engenharia de Dados\n",
    "\n",
    "lembrando que acima é um exemplo, mas é algo opcional e que é legal de ter, pois trás mais clareza aos processos.\n",
    "\n",
    "Depois de ter criado o usuário, faça o login na AWS através do IAM User. \n",
    "\n",
    "OBS: se for sua primeira vez na AWS, crie seu ALIAS, isso mascara o número na sua URL do root, aumentando o seu nível de proteção.\n",
    "\n",
    "IAM Policies inheritance\n",
    "\n",
    "Um usuário pode participar de vários grupos\n",
    "Cada grupo pode pussuir várias permiçõees\n",
    "\n",
    "EX: o usuários cristian, pertence ao grupo ACESSO_GERAL_AWS, esse grupo chamado ACESSO_GERAL_AWS, possivelmente possui a permissão de fazer tudo dentro da AWS, pormitindo usar todos os 403(dia 18/1/23) serviços da AWS.\n",
    "Isso pode mudar de permissão para permissão, tem cenários que o usuário só poderra ler arquivos. Isso pode variar muitos, pois, como dito, devemos limitar ao máximo as permissões dos usuários, deixando acesso ao necessários para que o usuário faça seu trabalho. Dessa forma, protegemos ao máximo nosso sistema de cloud.\n",
    "\n",
    "Você poderia criar permissões com as necessidades que você julga necessário. Você pode fazer isso de uma interface ou criando um json no padrão das permissões da AWS.\n",
    "Lembrando que * significa tudo, ou seja, quando você coloca * em alguma coisa, sigifica que você está dizendo tudo."
   ]
  },
  {
   "cell_type": "markdown",
   "metadata": {},
   "source": []
  }
 ],
 "metadata": {
  "language_info": {
   "name": "python"
  }
 },
 "nbformat": 4,
 "nbformat_minor": 2
}
