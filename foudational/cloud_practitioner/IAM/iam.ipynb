{
 "cells": [
  {
   "cell_type": "markdown",
   "metadata": {},
   "source": [
    "IAM USER\n",
    "\n",
    "\n",
    "Não utilize a conte root para operar a AWS, crie um usuário apra usar a AWS\n",
    "\n",
    "O ideal é sempre deixar os usuários com o menor número de permissoes possível\n",
    "\n",
    "Usuários possuem acesso global\n",
    "\n",
    "Se aparecer Account ID abaixo do nome, significa que você está na conta root.\n",
    "\n"
   ]
  }
 ],
 "metadata": {
  "language_info": {
   "name": "python"
  }
 },
 "nbformat": 4,
 "nbformat_minor": 2
}
