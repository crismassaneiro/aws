{
 "cells": [
  {
   "cell_type": "markdown",
   "metadata": {},
   "source": [
    "EC2 Intance Storage\n",
    "\n",
    "Existem diferentes tipos de storages para intancias EC2\n",
    "\n",
    "EBS\n",
    "\n",
    "EBS = ELastick Block Store\n",
    "\n",
    "Ele é uma opção de storage para nossas intancias EC2\n",
    "Ele permite que seus dados fiquem salvos, mesmo depois de voce destruir sua instancia EC2\n",
    "Eles são vínculados a regiões e zonas, então se você criou na us-east-1, quer dizer que só nessa zona ela ira aparecer\n",
    "Analogia: pense que ele é tipo um pendrive, mas na versão Cloud\n",
    "No tier free, temos 30gbs para brincar\n",
    "Podemos enexar 1 EBS a várias instancias de EC2 chama se EBS Multi-Attach\n",
    "\n",
    "Quando você cria uma instancia EC2, automaticamente será criado um EBS, pq você precisa configurar um Storage na hora de criar 1 EC2. \n",
    "\n",
    "Quando você deleta a instancia EC2, automaticamente deletara seu EBS, isso ocorre pq por padrão o EBS configura para deletar junto com a intancia EC2, mas você pode configurar para que, quando o Ec2 for deletado, a intância EBS permaneça.\n",
    "\n",
    "Lembrando que 1 EC2 pode ter vários EBS.\n",
    "\n",
    "O EBS precisa ser criado na mesma região e zona do seu EC2"
   ]
  }
 ],
 "metadata": {
  "language_info": {
   "name": "python"
  }
 },
 "nbformat": 4,
 "nbformat_minor": 2
}
