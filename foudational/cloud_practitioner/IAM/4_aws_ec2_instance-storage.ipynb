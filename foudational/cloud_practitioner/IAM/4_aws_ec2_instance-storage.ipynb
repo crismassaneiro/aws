{
 "cells": [
  {
   "cell_type": "markdown",
   "metadata": {},
   "source": [
    "EC2 Intance Storage\n",
    "\n",
    "Existem diferentes tipos de storages para intancias EC2\n",
    "\n",
    "EBS\n",
    "\n",
    "EBS = ELastick Block Store\n",
    "\n",
    "Ele é uma opção de storage para nossas intancias EC2\n",
    "Ele permite que seus dados fiquem salvos, mesmo depois de voce destruir sua instancia EC2\n",
    "Eles são vínculados a regiões e zonas, então se você criou na us-east-1, quer dizer que só nessa zona ela ira aparecer\n",
    "Analogia: pense que ele é tipo um pendrive, mas na versão Cloud\n",
    "No tier free, temos 30gbs para brincar"
   ]
  }
 ],
 "metadata": {
  "language_info": {
   "name": "python"
  }
 },
 "nbformat": 4,
 "nbformat_minor": 2
}
