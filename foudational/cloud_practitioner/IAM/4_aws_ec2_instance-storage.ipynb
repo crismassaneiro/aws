{
 "cells": [
  {
   "cell_type": "markdown",
   "metadata": {},
   "source": [
    "EC2 Intance Storage\n",
    "\n",
    "Existem diferentes tipos de storages para intancias EC2\n",
    "\n",
    "EBS\n",
    "\n",
    "EBS = ELastick Block Store\n",
    "\n",
    "Ele é uma opção de storage para nossas intancias EC2\n",
    "Ele permite que seus dados fiquem salvos, mesmo depois de voce destruir sua instancia EC2\n",
    "Eles são vínculados a regiões e zonas, então se você criou na us-east-1, quer dizer que só nessa zona ela ira aparecer\n",
    "Analogia: pense que ele é tipo um pendrive, mas na versão Cloud\n",
    "No tier free, temos 30gbs para brincar\n",
    "Podemos enexar 1 EBS a várias instancias de EC2 chama se EBS Multi-Attach\n",
    "\n",
    "Quando você cria uma instancia EC2, automaticamente será criado um EBS, pq você precisa configurar um Storage na hora de criar 1 EC2. \n",
    "\n",
    "Quando você deleta a instancia EC2, automaticamente deletara seu EBS, isso ocorre pq por padrão o EBS configura para deletar junto com a intancia EC2, mas você pode configurar para que, quando o Ec2 for deletado, a intância EBS permaneça.\n",
    "\n",
    "Lembrando que 1 EC2 pode ter vários EBS.\n",
    "\n",
    "O EBS precisa ser criado na mesma região e zona do seu EC2\n",
    "\n",
    "Você pode criar EBSs indo no menu esquerdo e clicando em Elastic Block Store - Volumes\n",
    "\n",
    "\n",
    "EBS - Snapshot\n",
    "\n",
    "Serve basicamente para você fazer o backup do seu EBS, dessa fomra você pode tranfereir os dados ou apenas salvalos.\n",
    "\n",
    "Quando você deleta um snapshot, ele será direcionado para lixeira, nesse processo você poderá restaurar o seu snapshot em até 1 ano. Isso se você configurar essa opção.\n",
    "\n",
    "O snapshot serve também para você fazer a tranferencia de EBS por regiões/zonas. Ex: tu pode fazer o snapshot da us-east-1 e levar ele para us-west-1.\n",
    "\n",
    "EBS Snapshot archive\n",
    "\n",
    "Essa versão é 75% mais barata que a Snapshot padrão\n",
    "Porém essa versão mais barata, demora de 24 a 72 horas para restaurar o storage"
   ]
  }
 ],
 "metadata": {
  "language_info": {
   "name": "python"
  }
 },
 "nbformat": 4,
 "nbformat_minor": 2
}
