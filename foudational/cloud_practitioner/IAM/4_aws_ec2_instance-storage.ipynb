{
 "cells": [
  {
   "cell_type": "markdown",
   "metadata": {},
   "source": [
    "EC2 Intance Storage\n",
    "\n",
    "Existem diferentes tipos de storages para intancias EC2"
   ]
  }
 ],
 "metadata": {
  "language_info": {
   "name": "python"
  }
 },
 "nbformat": 4,
 "nbformat_minor": 2
}
