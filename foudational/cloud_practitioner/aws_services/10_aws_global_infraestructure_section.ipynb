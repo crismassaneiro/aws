{
 "cells": [
  {
   "cell_type": "markdown",
   "metadata": {},
   "source": [
    "Global Infrastructure Section"
   ]
  },
  {
   "cell_type": "markdown",
   "metadata": {},
   "source": [
    "Global AWS Infrastructure\n",
    "\n",
    "    • Regiões: Para implantar aplicações e infraestrutura\n",
    "    • Zonas de Disponibilidade: Constituídas por vários centros de dados\n",
    "    • Locais de Borda (Pontos de Presença): para entrega de conteúdo o mais próximo possível dos usuários\n",
    "    • Mais em: https://infrastructure.aws\n",
    "\n",
    "Aplicações Globais na AWS\n",
    "\n",
    "    • DNS Global: Route 53\n",
    "        • Ótimo para direcionar usuários para a implantação mais próxima com menor latência\n",
    "        • Ótimo para estratégias de recuperação de desastres\n",
    "    • Rede de Distribuição de Conteúdo (CDN) Global: CloudFront\n",
    "        • Replicar parte de sua aplicação para Locais de Borda da AWS - diminuir a latência\n",
    "        • Cachear solicitações comuns - melhorar a experiência do usuário e diminuir a latência\n",
    "    • Aceleração de Transferência do S3\n",
    "        • Acelerar uploads e downloads globais para o Amazon S3\n",
    "    • Acelerador Global da AWS:\n",
    "        • Melhorar a disponibilidade e o desempenho globais da aplicação usando a infraestrutura global da AWS\n",
    "\n",
    "\n",
    "\n",
    "\n",
    "\n",
    "\n",
    "\n",
    "\n",
    "\n",
    "\n",
    "\n",
    "\n",
    "\n",
    "\n",
    "\n",
    "\n",
    "\n",
    "\n",
    "\n",
    "\n",
    "\n",
    "\n",
    "\n",
    "\n",
    "\n",
    "\n",
    "\n",
    "\n",
    "\n",
    "\n",
    "\n",
    "\n",
    "\n",
    "\n"
   ]
  }
 ],
 "metadata": {
  "language_info": {
   "name": "python"
  }
 },
 "nbformat": 4,
 "nbformat_minor": 2
}
