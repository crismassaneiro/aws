{
 "cells": [
  {
   "cell_type": "markdown",
   "metadata": {},
   "source": [
    "Quick note on Distractors\n",
    "\n",
    "    • There are many services you will find in questions that are distractors\n",
    "    • There are over 200 AWS services, and we can’t cover them all\n",
    "    • Quicksight, Cognito, AppStreams, Server Migration Service, etc… \n",
    "    • I have covered all services that from my research and experience, people get questions for at the exam.\n",
    "    • If you see a service not covered by my course, but in someone else’s practice exam, don’t panic, I must have intentionally left it out\n",
    "    • If you see a service that is an answer at the exam but not covered in my course, please let me know!"
   ]
  }
 ],
 "metadata": {
  "language_info": {
   "name": "python"
  }
 },
 "nbformat": 4,
 "nbformat_minor": 2
}
