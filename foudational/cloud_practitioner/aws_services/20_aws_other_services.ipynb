{
 "cells": [
  {
   "cell_type": "markdown",
   "metadata": {},
   "source": [
    "Other AWS services section\n",
    "\n",
    "    • Other services represent services I couldn’t group with the other ones\n",
    "    • They are services reported by students as sometimes, but rarely, appearing on the AWS exam\n",
    "    • The lectures are short and brief and most likely without hands-on\n",
    "    • No summary lecture at the end of the section to keep things flexible\n",
    "\n",
    "Amazon WorkSpaces\n",
    "\n",
    "    • Managed Desktop as a Service (DaaS) solution to easily provision Windows or Linux desktops \n",
    "    • Great to eliminate management of on-premise VDI (Virtual Desktop Infrastructure)\n",
    "    • Fast and quickly scalable to thousands of users\n",
    "    • Secured data – integrates with KMS\n",
    "    • Pay-as-you-go service with monthly or hourly rates\n",
    "    \n",
    "    tyujtyijk\n",
    "\n",
    "    "
   ]
  }
 ],
 "metadata": {
  "language_info": {
   "name": "python"
  }
 },
 "nbformat": 4,
 "nbformat_minor": 2
}
