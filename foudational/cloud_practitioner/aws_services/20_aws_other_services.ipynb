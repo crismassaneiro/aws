{
 "cells": [
  {
   "cell_type": "markdown",
   "metadata": {},
   "source": [
    "Other AWS services section\n",
    "\n",
    "    • Other services represent services I couldn’t group with the other ones\n",
    "    • They are services reported by students as sometimes, but rarely, appearing on the AWS exam\n",
    "    • The lectures are short and brief and most likely without hands-on\n",
    "    • No summary lecture at the end of the section to keep things flexible"
   ]
  }
 ],
 "metadata": {
  "language_info": {
   "name": "python"
  }
 },
 "nbformat": 4,
 "nbformat_minor": 2
}
