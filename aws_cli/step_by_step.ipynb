{
 "cells": [
  {
   "cell_type": "markdown",
   "metadata": {},
   "source": [
    "### Passo 1 - Baixe e instale o AWS CLI\n",
    "Link: https://docs.aws.amazon.com/cli/latest/userguide/getting-started-install.html"
   ]
  }
 ],
 "metadata": {
  "language_info": {
   "name": "python"
  }
 },
 "nbformat": 4,
 "nbformat_minor": 2
}
